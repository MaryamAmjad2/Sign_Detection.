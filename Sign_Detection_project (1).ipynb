{
 "cells": [
  {
   "cell_type": "markdown",
   "id": "72f8fa7a-ec99-4bb3-b1e4-390ac876de4d",
   "metadata": {},
   "source": [
    "# 1 Dependency"
   ]
  },
  {
   "cell_type": "code",
   "execution_count": 6,
   "id": "7113704b-f4ea-4140-94c1-23632a2a0cbc",
   "metadata": {},
   "outputs": [
    {
     "name": "stdout",
     "output_type": "stream",
     "text": [
      "Requirement already satisfied: opencv-python in c:\\users\\pmyls\\anaconda3\\lib\\site-packages (4.11.0.86)\n",
      "Requirement already satisfied: numpy>=1.21.2 in c:\\users\\pmyls\\anaconda3\\lib\\site-packages (from opencv-python) (1.26.4)\n"
     ]
    }
   ],
   "source": [
    "!pip install opencv-python"
   ]
  },
  {
   "cell_type": "code",
   "execution_count": 8,
   "id": "3035f9c2-2eb2-42d8-9ff7-c7d88515c7a1",
   "metadata": {},
   "outputs": [],
   "source": [
    "import cv2\n",
    "import numpy as np\n",
    "import os\n",
    "from matplotlib import pyplot as plt\n",
    "import time\n",
    "import mediapipe as mp"
   ]
  },
  {
   "cell_type": "markdown",
   "id": "4e487346-1410-4984-b834-efc832c278a7",
   "metadata": {},
   "source": [
    "# 2. KeyPoints Using MediaPipe Holistics"
   ]
  },
  {
   "cell_type": "code",
   "execution_count": 11,
   "id": "f5f3b5a6-4d01-4da5-9ade-698e2cbd1f7d",
   "metadata": {},
   "outputs": [],
   "source": [
    "mp_holistic = mp.solutions.holistic # Holistic model\n",
    "mp_drawing = mp.solutions.drawing_utils # Drawing utilities"
   ]
  },
  {
   "cell_type": "code",
   "execution_count": 13,
   "id": "015a9658-5eca-4146-a661-515d904e2925",
   "metadata": {},
   "outputs": [],
   "source": [
    "def mediapipe_detection(image, model):\n",
    "    image = cv2.cvtColor(image, cv2.COLOR_BGR2RGB) # COLOR CONVERSION BGR 2 RGB\n",
    "    image.flags.writeable = False                  # Image is no longer writeable\n",
    "    results = model.process(image)                 # Make prediction\n",
    "    image.flags.writeable = True                   # Image is now writeable \n",
    "    image = cv2.cvtColor(image, cv2.COLOR_RGB2BGR) # COLOR COVERSION RGB 2 BGR\n",
    "    return image, results"
   ]
  },
  {
   "cell_type": "code",
   "execution_count": 21,
   "id": "4536f463-4306-423c-898b-095e20d9767f",
   "metadata": {},
   "outputs": [],
   "source": [
    "# def draw_landmarks(image,results):\n",
    "#     mp_drawing.draw_landmarks(image, results.face_landmarks, mp_holistic.FACEMESH_TESSELATION) #draw face connection\n",
    "#     mp_drawing.draw_landmarks(image, results.pose_landmarks,mp_holistic.POSE_CONNECTIONS) #draw pose connection\n",
    "#     mp_drawing.draw_landmarks(image, results.left_hand_landmarks,mp_holistic.HAND_CONNECTIONS) #draw hand connection\n",
    "#     mp_drawing.draw_landmarks(image, results.right_hand_landmarks,mp_holistic.HAND_CONNECTIONS) #draw hand connection\n",
    "    "
   ]
  },
  {
   "cell_type": "code",
   "execution_count": 17,
   "id": "f61df3df-db00-459e-b291-a6320a1814a4",
   "metadata": {},
   "outputs": [],
   "source": [
    "def draw_landmarks(image, results):\n",
    "    mp_drawing.draw_landmarks(image, results.face_landmarks, mp_holistic.FACE_CONNECTIONS) # Draw face connections\n",
    "    mp_drawing.draw_landmarks(image, results.pose_landmarks, mp_holistic.POSE_CONNECTIONS) # Draw pose connections\n",
    "    mp_drawing.draw_landmarks(image, results.left_hand_landmarks, mp_holistic.HAND_CONNECTIONS) # Draw left hand connections\n",
    "    mp_drawing.draw_landmarks(image, results.right_hand_landmarks, mp_holistic.HAND_CONNECTIONS) # Draw right hand connections"
   ]
  },
  {
   "cell_type": "code",
   "execution_count": 24,
   "id": "46267130-7197-41e3-8aeb-c76c7dbacdf2",
   "metadata": {},
   "outputs": [],
   "source": [
    "cap = cv2.VideoCapture(0)\n",
    "# Set mediapipe model \n",
    "with mp_holistic.Holistic(min_detection_confidence=0.5, min_tracking_confidence=0.5) as holistic:\n",
    "    while cap.isOpened():\n",
    "\n",
    "        # Read feed\n",
    "        ret, frame = cap.read()\n",
    "\n",
    "        # Make detections\n",
    "        image, results = mediapipe_detection(frame, holistic)\n",
    "        print(results)\n",
    "        \n",
    "        # Draw landmarks\n",
    "        draw_styled_landmarks(image, results)\n",
    "\n",
    "        # Show to screen\n",
    "        cv2.imshow('OpenCV Feed', image)\n",
    "\n",
    "        # Break gracefully\n",
    "        if cv2.waitKey(10) & 0xFF == ord('q'):\n",
    "            break\n",
    "    cap.release()\n",
    "    cv2.destroyAllWindows()"
   ]
  },
  {
   "cell_type": "code",
   "execution_count": 25,
   "id": "9b5b9d75-bc75-4aba-8997-2f4fc42f0491",
   "metadata": {},
   "outputs": [],
   "source": [
    "# len(results.left_hand_landmarks.landmark)"
   ]
  },
  {
   "cell_type": "code",
   "execution_count": 26,
   "id": "4d80cd81-094f-43c4-bc19-b30b93bad06e",
   "metadata": {},
   "outputs": [],
   "source": [
    "draw_landmarks(frame, results)"
   ]
  },
  {
   "cell_type": "code",
   "execution_count": null,
   "id": "3b90f647-8c9e-4db7-b2d5-0d9a6f57398e",
   "metadata": {},
   "outputs": [],
   "source": [
    "plt.imshow(cv2.cvtColor(frame, cv2.COLOR_BGR2RGB))"
   ]
  },
  {
   "cell_type": "markdown",
   "id": "cf1129ef-6ed7-4f78-98bf-090a1b8b019c",
   "metadata": {},
   "source": [
    "# 3: Extract Key Points"
   ]
  },
  {
   "cell_type": "code",
   "execution_count": null,
   "id": "b03c1a84-2dfe-490f-abaf-ae29abb822e6",
   "metadata": {},
   "outputs": [],
   "source": []
  },
  {
   "cell_type": "code",
   "execution_count": null,
   "id": "e430f848-58c9-4383-8cf9-f328b77d76be",
   "metadata": {},
   "outputs": [],
   "source": []
  },
  {
   "cell_type": "code",
   "execution_count": 29,
   "id": "cd4cd113-9864-414b-8d37-d9e4546acc06",
   "metadata": {},
   "outputs": [],
   "source": [
    "# pose= np.array([[res.x , res.y ,res.z, res.visibility] for res in results.pose_landmarks.landmark]).flatten() if results.pose_landmarks else np.zeros(132)\n",
    "\n",
    "# lh= np.array([[res.x , res.y ,res.z] for res in results.left_hand_landmarks.landmark]).flatten() if results.left_hand_landmarks else np.zeros(21*3)\n",
    "\n",
    "# rh= np.array([[res.x , res.y ,res.z] for res in results.right_hand_landmarks.landmark]).flatten() if results.left_hand_landmarks else np.zeros(21*3)\n",
    "\n",
    "# face= np.array([[res.x , res.y ,res.z] for res in results.face_landmarks.landmark]).flatten() if results.face_landmarks else np.zeros(1404)"
   ]
  },
  {
   "cell_type": "code",
   "execution_count": 30,
   "id": "84ebb1b6-1291-45ea-9cce-d6f4969e3bf0",
   "metadata": {},
   "outputs": [],
   "source": [
    "# face= np.array([[res.x , res.y ,res.z] for res in results.face_landmarks.landmark]).flatten() if results.face_landmarks ese np.zeros(1404)"
   ]
  },
  {
   "cell_type": "code",
   "execution_count": 31,
   "id": "043b5509-1ea1-4c05-9e69-1b7c6ec72b02",
   "metadata": {},
   "outputs": [],
   "source": [
    "def extract_keypoints(results):\n",
    "    pose= np.array([[res.x , res.y ,res.z, res.visibility] for res in results.pose_landmarks.landmark]).flatten() if results.pose_landmarks else np.zeros(33*4)\n",
    "    lh= np.array([[res.x , res.y ,res.z] for res in results.left_hand_landmarks.landmark]).flatten() if results.left_hand_landmarks else np.zeros(21*3)\n",
    "    rh= np.array([[res.x , res.y ,res.z] for res in results.right_hand_landmarks.landmark]).flatten() if results.right_hand_landmarks else np.zeros(21*3)\n",
    "    face= np.array([[res.x , res.y ,res.z] for res in results.face_landmarks.landmark]).flatten() if results.face_landmarks else np.zeros(468*3)\n",
    "    return np.concatenate([pose, face,lh,rh])"
   ]
  },
  {
   "cell_type": "code",
   "execution_count": 32,
   "id": "3d814946-08f1-47bd-9439-3c567419953f",
   "metadata": {},
   "outputs": [],
   "source": [
    "result_test = extract_keypoints(results)"
   ]
  },
  {
   "cell_type": "code",
   "execution_count": 33,
   "id": "beea2d74-e411-45bb-aade-13af0fc7ca41",
   "metadata": {},
   "outputs": [],
   "source": [
    "np.save('0', result_test)"
   ]
  },
  {
   "cell_type": "code",
   "execution_count": null,
   "id": "b7b444aa-19fd-4e82-a6b2-14ef7bddf76d",
   "metadata": {},
   "outputs": [],
   "source": [
    "np.load('0.npy')"
   ]
  },
  {
   "cell_type": "markdown",
   "id": "2b94b741-6719-4a0a-af6d-6964c7e90206",
   "metadata": {},
   "source": [
    "# 4. Setup Folders for Data Collection"
   ]
  },
  {
   "cell_type": "code",
   "execution_count": 35,
   "id": "61390b35-4c0c-4679-ad5e-62d4b16016f2",
   "metadata": {},
   "outputs": [],
   "source": [
    "# Path for exported data, numpy arrays\n",
    "DATA_PATH = os.path.join('MP_Data') \n",
    "\n",
    "# Actions that we try to detect\n",
    "actions = np.array(['hello', 'thanks', 'iloveyou'])\n",
    "\n",
    "# Thirty videos worth of data\n",
    "no_sequences = 30\n",
    "\n",
    "# Videos are going to be 30 frames in length\n",
    "sequence_length = 30"
   ]
  },
  {
   "cell_type": "code",
   "execution_count": 221,
   "id": "99617293-1937-43bc-bf2e-e43b246aad3e",
   "metadata": {},
   "outputs": [],
   "source": [
    "for action in actions: \n",
    "    for sequence in range(no_sequences):\n",
    "        try: \n",
    "            os.makedirs(os.path.join(DATA_PATH, action, str(sequence)))\n",
    "        except:\n",
    "            pass"
   ]
  },
  {
   "cell_type": "code",
   "execution_count": 36,
   "id": "45088420-51d2-4d84-8861-85234cb51eac",
   "metadata": {},
   "outputs": [
    {
     "name": "stdout",
     "output_type": "stream",
     "text": [
      "Error: [WinError 183] Cannot create a file when that file already exists: 'MP_DATA\\\\Hello\\\\0'\n",
      "Error: [WinError 183] Cannot create a file when that file already exists: 'MP_DATA\\\\Hello\\\\1'\n",
      "Error: [WinError 183] Cannot create a file when that file already exists: 'MP_DATA\\\\Hello\\\\2'\n",
      "Error: [WinError 183] Cannot create a file when that file already exists: 'MP_DATA\\\\Hello\\\\3'\n",
      "Error: [WinError 183] Cannot create a file when that file already exists: 'MP_DATA\\\\Hello\\\\4'\n",
      "Error: [WinError 183] Cannot create a file when that file already exists: 'MP_DATA\\\\Hello\\\\5'\n",
      "Error: [WinError 183] Cannot create a file when that file already exists: 'MP_DATA\\\\Hello\\\\6'\n",
      "Error: [WinError 183] Cannot create a file when that file already exists: 'MP_DATA\\\\Hello\\\\7'\n",
      "Error: [WinError 183] Cannot create a file when that file already exists: 'MP_DATA\\\\Hello\\\\8'\n",
      "Error: [WinError 183] Cannot create a file when that file already exists: 'MP_DATA\\\\Hello\\\\9'\n",
      "Error: [WinError 183] Cannot create a file when that file already exists: 'MP_DATA\\\\Hello\\\\10'\n",
      "Error: [WinError 183] Cannot create a file when that file already exists: 'MP_DATA\\\\Hello\\\\11'\n",
      "Error: [WinError 183] Cannot create a file when that file already exists: 'MP_DATA\\\\Hello\\\\12'\n",
      "Error: [WinError 183] Cannot create a file when that file already exists: 'MP_DATA\\\\Hello\\\\13'\n",
      "Error: [WinError 183] Cannot create a file when that file already exists: 'MP_DATA\\\\Hello\\\\14'\n",
      "Error: [WinError 183] Cannot create a file when that file already exists: 'MP_DATA\\\\Hello\\\\15'\n",
      "Error: [WinError 183] Cannot create a file when that file already exists: 'MP_DATA\\\\Hello\\\\16'\n",
      "Error: [WinError 183] Cannot create a file when that file already exists: 'MP_DATA\\\\Hello\\\\17'\n",
      "Error: [WinError 183] Cannot create a file when that file already exists: 'MP_DATA\\\\Hello\\\\18'\n",
      "Error: [WinError 183] Cannot create a file when that file already exists: 'MP_DATA\\\\Hello\\\\19'\n",
      "Error: [WinError 183] Cannot create a file when that file already exists: 'MP_DATA\\\\Hello\\\\20'\n",
      "Error: [WinError 183] Cannot create a file when that file already exists: 'MP_DATA\\\\Hello\\\\21'\n",
      "Error: [WinError 183] Cannot create a file when that file already exists: 'MP_DATA\\\\Hello\\\\22'\n",
      "Error: [WinError 183] Cannot create a file when that file already exists: 'MP_DATA\\\\Hello\\\\23'\n",
      "Error: [WinError 183] Cannot create a file when that file already exists: 'MP_DATA\\\\Hello\\\\24'\n",
      "Error: [WinError 183] Cannot create a file when that file already exists: 'MP_DATA\\\\Hello\\\\25'\n",
      "Error: [WinError 183] Cannot create a file when that file already exists: 'MP_DATA\\\\Hello\\\\26'\n",
      "Error: [WinError 183] Cannot create a file when that file already exists: 'MP_DATA\\\\Hello\\\\27'\n",
      "Error: [WinError 183] Cannot create a file when that file already exists: 'MP_DATA\\\\Hello\\\\28'\n",
      "Error: [WinError 183] Cannot create a file when that file already exists: 'MP_DATA\\\\Hello\\\\29'\n",
      "Error: [WinError 183] Cannot create a file when that file already exists: 'MP_DATA\\\\thanks\\\\0'\n",
      "Error: [WinError 183] Cannot create a file when that file already exists: 'MP_DATA\\\\thanks\\\\1'\n",
      "Error: [WinError 183] Cannot create a file when that file already exists: 'MP_DATA\\\\thanks\\\\2'\n",
      "Error: [WinError 183] Cannot create a file when that file already exists: 'MP_DATA\\\\thanks\\\\3'\n",
      "Error: [WinError 183] Cannot create a file when that file already exists: 'MP_DATA\\\\thanks\\\\4'\n",
      "Error: [WinError 183] Cannot create a file when that file already exists: 'MP_DATA\\\\thanks\\\\5'\n",
      "Error: [WinError 183] Cannot create a file when that file already exists: 'MP_DATA\\\\thanks\\\\6'\n",
      "Error: [WinError 183] Cannot create a file when that file already exists: 'MP_DATA\\\\thanks\\\\7'\n",
      "Error: [WinError 183] Cannot create a file when that file already exists: 'MP_DATA\\\\thanks\\\\8'\n",
      "Error: [WinError 183] Cannot create a file when that file already exists: 'MP_DATA\\\\thanks\\\\9'\n",
      "Error: [WinError 183] Cannot create a file when that file already exists: 'MP_DATA\\\\thanks\\\\10'\n",
      "Error: [WinError 183] Cannot create a file when that file already exists: 'MP_DATA\\\\thanks\\\\11'\n",
      "Error: [WinError 183] Cannot create a file when that file already exists: 'MP_DATA\\\\thanks\\\\12'\n",
      "Error: [WinError 183] Cannot create a file when that file already exists: 'MP_DATA\\\\thanks\\\\13'\n",
      "Error: [WinError 183] Cannot create a file when that file already exists: 'MP_DATA\\\\thanks\\\\14'\n",
      "Error: [WinError 183] Cannot create a file when that file already exists: 'MP_DATA\\\\thanks\\\\15'\n",
      "Error: [WinError 183] Cannot create a file when that file already exists: 'MP_DATA\\\\thanks\\\\16'\n",
      "Error: [WinError 183] Cannot create a file when that file already exists: 'MP_DATA\\\\thanks\\\\17'\n",
      "Error: [WinError 183] Cannot create a file when that file already exists: 'MP_DATA\\\\thanks\\\\18'\n",
      "Error: [WinError 183] Cannot create a file when that file already exists: 'MP_DATA\\\\thanks\\\\19'\n",
      "Error: [WinError 183] Cannot create a file when that file already exists: 'MP_DATA\\\\thanks\\\\20'\n",
      "Error: [WinError 183] Cannot create a file when that file already exists: 'MP_DATA\\\\thanks\\\\21'\n",
      "Error: [WinError 183] Cannot create a file when that file already exists: 'MP_DATA\\\\thanks\\\\22'\n",
      "Error: [WinError 183] Cannot create a file when that file already exists: 'MP_DATA\\\\thanks\\\\23'\n",
      "Error: [WinError 183] Cannot create a file when that file already exists: 'MP_DATA\\\\thanks\\\\24'\n",
      "Error: [WinError 183] Cannot create a file when that file already exists: 'MP_DATA\\\\thanks\\\\25'\n",
      "Error: [WinError 183] Cannot create a file when that file already exists: 'MP_DATA\\\\thanks\\\\26'\n",
      "Error: [WinError 183] Cannot create a file when that file already exists: 'MP_DATA\\\\thanks\\\\27'\n",
      "Error: [WinError 183] Cannot create a file when that file already exists: 'MP_DATA\\\\thanks\\\\28'\n",
      "Error: [WinError 183] Cannot create a file when that file already exists: 'MP_DATA\\\\thanks\\\\29'\n",
      "Error: [WinError 183] Cannot create a file when that file already exists: 'MP_DATA\\\\iloveyou\\\\0'\n",
      "Error: [WinError 183] Cannot create a file when that file already exists: 'MP_DATA\\\\iloveyou\\\\1'\n",
      "Error: [WinError 183] Cannot create a file when that file already exists: 'MP_DATA\\\\iloveyou\\\\2'\n",
      "Error: [WinError 183] Cannot create a file when that file already exists: 'MP_DATA\\\\iloveyou\\\\3'\n",
      "Error: [WinError 183] Cannot create a file when that file already exists: 'MP_DATA\\\\iloveyou\\\\4'\n",
      "Error: [WinError 183] Cannot create a file when that file already exists: 'MP_DATA\\\\iloveyou\\\\5'\n",
      "Error: [WinError 183] Cannot create a file when that file already exists: 'MP_DATA\\\\iloveyou\\\\6'\n",
      "Error: [WinError 183] Cannot create a file when that file already exists: 'MP_DATA\\\\iloveyou\\\\7'\n",
      "Error: [WinError 183] Cannot create a file when that file already exists: 'MP_DATA\\\\iloveyou\\\\8'\n",
      "Error: [WinError 183] Cannot create a file when that file already exists: 'MP_DATA\\\\iloveyou\\\\9'\n",
      "Error: [WinError 183] Cannot create a file when that file already exists: 'MP_DATA\\\\iloveyou\\\\10'\n",
      "Error: [WinError 183] Cannot create a file when that file already exists: 'MP_DATA\\\\iloveyou\\\\11'\n",
      "Error: [WinError 183] Cannot create a file when that file already exists: 'MP_DATA\\\\iloveyou\\\\12'\n",
      "Error: [WinError 183] Cannot create a file when that file already exists: 'MP_DATA\\\\iloveyou\\\\13'\n",
      "Error: [WinError 183] Cannot create a file when that file already exists: 'MP_DATA\\\\iloveyou\\\\14'\n",
      "Error: [WinError 183] Cannot create a file when that file already exists: 'MP_DATA\\\\iloveyou\\\\15'\n",
      "Error: [WinError 183] Cannot create a file when that file already exists: 'MP_DATA\\\\iloveyou\\\\16'\n",
      "Error: [WinError 183] Cannot create a file when that file already exists: 'MP_DATA\\\\iloveyou\\\\17'\n",
      "Error: [WinError 183] Cannot create a file when that file already exists: 'MP_DATA\\\\iloveyou\\\\18'\n",
      "Error: [WinError 183] Cannot create a file when that file already exists: 'MP_DATA\\\\iloveyou\\\\19'\n",
      "Error: [WinError 183] Cannot create a file when that file already exists: 'MP_DATA\\\\iloveyou\\\\20'\n",
      "Error: [WinError 183] Cannot create a file when that file already exists: 'MP_DATA\\\\iloveyou\\\\21'\n",
      "Error: [WinError 183] Cannot create a file when that file already exists: 'MP_DATA\\\\iloveyou\\\\22'\n",
      "Error: [WinError 183] Cannot create a file when that file already exists: 'MP_DATA\\\\iloveyou\\\\23'\n",
      "Error: [WinError 183] Cannot create a file when that file already exists: 'MP_DATA\\\\iloveyou\\\\24'\n",
      "Error: [WinError 183] Cannot create a file when that file already exists: 'MP_DATA\\\\iloveyou\\\\25'\n",
      "Error: [WinError 183] Cannot create a file when that file already exists: 'MP_DATA\\\\iloveyou\\\\26'\n",
      "Error: [WinError 183] Cannot create a file when that file already exists: 'MP_DATA\\\\iloveyou\\\\27'\n",
      "Error: [WinError 183] Cannot create a file when that file already exists: 'MP_DATA\\\\iloveyou\\\\28'\n",
      "Error: [WinError 183] Cannot create a file when that file already exists: 'MP_DATA\\\\iloveyou\\\\29'\n"
     ]
    }
   ],
   "source": [
    "# # Create directories for each action and sequence\n",
    "# for action in actions:\n",
    "#     for sequence in range(no_sequences):\n",
    "#         try:\n",
    "#             # Create directories for each action and sequence\n",
    "#             os.makedirs(os.path.join(DATA_PATH, action, str(sequence)))\n",
    "#             print(f\"Directory created: {os.path.join(DATA_PATH, action, str(sequence))}\")\n",
    "#         except Exception as e:\n",
    "#             print(f\"Error: {e}\")\n",
    "#             pass"
   ]
  },
  {
   "cell_type": "code",
   "execution_count": null,
   "id": "c95d9004-af44-4c18-b7c3-2bcd5d697970",
   "metadata": {},
   "outputs": [],
   "source": []
  },
  {
   "cell_type": "markdown",
   "id": "74e8fd97-4496-4a3e-8443-02c4e0952ae5",
   "metadata": {},
   "source": [
    "5. Collect keypoint Sequences"
   ]
  },
  {
   "cell_type": "code",
   "execution_count": 38,
   "id": "adfdbcb1-82a3-452f-ba6e-5a87427e5373",
   "metadata": {},
   "outputs": [],
   "source": [
    "# cap=cv2.VideoCapture(0)\n",
    "# # Set Media pipe model\n",
    "# with mp_holistic.Holistic(min_detection_confidence=0.5, min_tracking_confidence=0.5) as holistic:\n",
    "#     #New Loop\n",
    "#     #Loop through actions\n",
    "#     for action in actions:\n",
    "#         #Loop through sequence aka videos\n",
    "#         for sequence in range(no_sequences):\n",
    "#             # Loop throug videos length aka seq length\n",
    "#             for frame_num in range(sequence):\n",
    "#                 ret, frame= cap.read()\n",
    "#                 #Detection\n",
    "#                 image, results= mediapipe_detection(frame, holistic)\n",
    "        \n",
    "#                 #Draw landmarks\n",
    "#                 draw_landmarks(image, results)\n",
    "#                 # New Apply wait logic\n",
    "#                 if frame_num==0:\n",
    "#                     cv2.putText(image,'STARTING COLLECTION',(120,200),\n",
    "#                                 cv2.FONT_HERSHEY_SIMPLEX, 1, (0,255,0),4,cv2.LINE_AA)\n",
    "#                     cv2.putText(image,'Collecting frame for {} Video Number {}'.format(action, sequence),(15,12),\n",
    "#                                 cv2.FONT_HERSHEY_SIMPLEX, 0.5, (0,0,255),1,cv2.LINE_AA)\n",
    "#                     cv2.waitKey(2000)\n",
    "#                 else:\n",
    "#                     cv2.putText(image,'Collecting frame for {} Video Number{}'.format(action, sequence),(15,2),\n",
    "#                                 cv2.FONT_HERSHEY_SIMPLEX, 0.5, (0,0,255),1,cv2.LINE_AA)  \n",
    "\n",
    "#                 #New Export Keypoints\n",
    "#                 keypoints= extract_keypoints(results)\n",
    "#                 npy_path=os.path.join(DATA_PATH, action, str(sequence), str(frame_num))\n",
    "#                 np.save(npy_path, keypoints)\n",
    "                \n",
    "#                 #show\n",
    "#                 cv2.imshow(\"Open CV Feed\", image)              \n",
    "\n",
    "#                 if cv2.waitKey(10) & 0xFF== ord('q'):\n",
    "#                   break\n",
    "#     cap.release()\n",
    "#     cv2.destroyAllWindows()\n",
    "    \n",
    "    \n"
   ]
  },
  {
   "cell_type": "code",
   "execution_count": 39,
   "id": "048b401d-da6c-4d29-8127-58dd93edf043",
   "metadata": {},
   "outputs": [],
   "source": [
    "# import cv2\n",
    "# import os\n",
    "# import numpy as np\n",
    "# import mediapipe as mp\n",
    "\n",
    "# cap = cv2.VideoCapture(0)\n",
    "# cap.set(cv2.CAP_PROP_FRAME_WIDTH, 640)\n",
    "# cap.set(cv2.CAP_PROP_FRAME_HEIGHT, 480)\n",
    "\n",
    "# mp_holistic = mp.solutions.holistic\n",
    "# with mp_holistic.Holistic(min_detection_confidence=0.5, min_tracking_confidence=0.5) as holistic:\n",
    "    \n",
    "#     for action in actions:\n",
    "#         for sequence in range(no_sequences):\n",
    "#             for frame_num in range(sequence_length):\n",
    "#                 cap.grab()  # Clear buffer before reading\n",
    "#                 ret, frame = cap.read()\n",
    "                \n",
    "#                 if not ret:  \n",
    "#                     print(f\"Frame capture failed at action: {action}, sequence: {sequence}, frame: {frame_num}\")\n",
    "#                     cap.release()\n",
    "#                     cv2.destroyAllWindows()\n",
    "#                     exit()\n",
    "\n",
    "#                 print(f\"Processing: Action={action}, Sequence={sequence}, Frame={frame_num}\")\n",
    "\n",
    "#                 image, results = mediapipe_detection(frame, holistic)\n",
    "#                 draw_landmarks(image, results)\n",
    "\n",
    "#                 if frame_num == 0:\n",
    "#                     cv2.putText(image, 'STARTING COLLECTION', (120, 200),\n",
    "#                                 cv2.FONT_HERSHEY_SIMPLEX, 1, (0, 255, 0), 4, cv2.LINE_AA)\n",
    "#                     cv2.waitKey(500)  # Shorter delay\n",
    "\n",
    "#                 keypoints = extract_keypoints(results)\n",
    "#                 npy_path = os.path.join(DATA_PATH, action, str(sequence), str(frame_num))\n",
    "#                 np.save(npy_path, keypoints)\n",
    "\n",
    "#                 cv2.imshow(\"OpenCV Feed\", image)\n",
    "\n",
    "#                 if cv2.waitKey(1) & 0xFF == ord('q'):\n",
    "#                     cap.release()\n",
    "#                     cv2.destroyAllWindows()\n",
    "#                     exit()\n",
    "\n",
    "# cap.release()\n",
    "# cv2.destroyAllWindows()\n"
   ]
  },
  {
   "cell_type": "code",
   "execution_count": 216,
   "id": "5544e8f2-473c-43b4-a542-ac2051f0ac56",
   "metadata": {},
   "outputs": [
    {
     "ename": "NameError",
     "evalue": "name 'draw_styled_landmarks' is not defined",
     "output_type": "error",
     "traceback": [
      "\u001b[1;31m---------------------------------------------------------------------------\u001b[0m",
      "\u001b[1;31mNameError\u001b[0m                                 Traceback (most recent call last)",
      "Cell \u001b[1;32mIn[216], line 21\u001b[0m\n\u001b[0;32m     17\u001b[0m                 image, results \u001b[38;5;241m=\u001b[39m mediapipe_detection(frame, holistic)\n\u001b[0;32m     18\u001b[0m \u001b[38;5;66;03m#                 print(results)\u001b[39;00m\n\u001b[0;32m     19\u001b[0m \n\u001b[0;32m     20\u001b[0m                 \u001b[38;5;66;03m# Draw landmarks\u001b[39;00m\n\u001b[1;32m---> 21\u001b[0m                 draw_styled_landmarks(image, results)\n\u001b[0;32m     23\u001b[0m                 \u001b[38;5;66;03m# NEW Apply wait logic\u001b[39;00m\n\u001b[0;32m     24\u001b[0m                 \u001b[38;5;28;01mif\u001b[39;00m frame_num \u001b[38;5;241m==\u001b[39m \u001b[38;5;241m0\u001b[39m: \n",
      "\u001b[1;31mNameError\u001b[0m: name 'draw_styled_landmarks' is not defined"
     ]
    }
   ],
   "source": [
    "cap = cv2.VideoCapture(0)\n",
    "# Set mediapipe model \n",
    "with mp_holistic.Holistic(min_detection_confidence=0.5, min_tracking_confidence=0.5) as holistic:\n",
    "    \n",
    "    # NEW LOOP\n",
    "    # Loop through actions\n",
    "    for action in actions:\n",
    "        # Loop through sequences aka videos\n",
    "        for sequence in range(no_sequences):\n",
    "            # Loop through video length aka sequence length\n",
    "            for frame_num in range(sequence_length):\n",
    "\n",
    "                # Read feed\n",
    "                ret, frame = cap.read()\n",
    "\n",
    "                # Make detections\n",
    "                image, results = mediapipe_detection(frame, holistic)\n",
    "#                 print(results)\n",
    "\n",
    "                # Draw landmarks\n",
    "                draw_styled_landmarks(image, results)\n",
    "                \n",
    "                # NEW Apply wait logic\n",
    "                if frame_num == 0: \n",
    "                    cv2.putText(image, 'STARTING COLLECTION', (120,200), \n",
    "                               cv2.FONT_HERSHEY_SIMPLEX, 1, (0,255, 0), 4, cv2.LINE_AA)\n",
    "                    cv2.putText(image, 'Collecting frames for {} Video Number {}'.format(action, sequence), (15,12), \n",
    "                               cv2.FONT_HERSHEY_SIMPLEX, 0.5, (0, 0, 255), 1, cv2.LINE_AA)\n",
    "                    # Show to screen\n",
    "                    cv2.imshow('OpenCV Feed', image)\n",
    "                    cv2.waitKey(2000)\n",
    "                else: \n",
    "                    cv2.putText(image, 'Collecting frames for {} Video Number {}'.format(action, sequence), (15,12), \n",
    "                               cv2.FONT_HERSHEY_SIMPLEX, 0.5, (0, 0, 255), 1, cv2.LINE_AA)\n",
    "                    # Show to screen\n",
    "                    cv2.imshow('OpenCV Feed', image)\n",
    "                \n",
    "                # NEW Export keypoints\n",
    "                keypoints = extract_keypoints(results)\n",
    "                npy_path = os.path.join(DATA_PATH, action, str(sequence), str(frame_num))\n",
    "                np.save(npy_path, keypoints)\n",
    "\n",
    "                # Break gracefully\n",
    "                if cv2.waitKey(10) & 0xFF == ord('q'):\n",
    "                    break\n",
    "                    \n",
    "    cap.release()\n",
    "    cv2.destroyAllWindows()"
   ]
  },
  {
   "cell_type": "markdown",
   "id": "6be58599-2dcd-4f8d-afb7-adba9508663f",
   "metadata": {},
   "source": [
    "# 6 Pre Processing Data and Create Labels"
   ]
  },
  {
   "cell_type": "code",
   "execution_count": 61,
   "id": "1646055b-71e0-4323-a5f4-6df9fc457ee0",
   "metadata": {},
   "outputs": [],
   "source": [
    "from sklearn.model_selection import train_test_split\n",
    "from tensorflow.keras.utils import to_categorical\n"
   ]
  },
  {
   "cell_type": "code",
   "execution_count": 154,
   "id": "793434c6-de95-42f0-8bfb-d01c95e04df2",
   "metadata": {},
   "outputs": [],
   "source": [
    "label_map = {label:num for num, label in enumerate(actions)}"
   ]
  },
  {
   "cell_type": "code",
   "execution_count": 53,
   "id": "d6d23f6e-ea03-4da7-ba22-970c961068fe",
   "metadata": {},
   "outputs": [
    {
     "data": {
      "text/plain": [
       "{'Hello': 0, 'thanks': 1, 'iloveyou': 2}"
      ]
     },
     "execution_count": 53,
     "metadata": {},
     "output_type": "execute_result"
    }
   ],
   "source": [
    "label_map"
   ]
  },
  {
   "cell_type": "code",
   "execution_count": 156,
   "id": "1cd2cf81-f672-4a1c-9770-7fe7bb3fac7a",
   "metadata": {},
   "outputs": [],
   "source": [
    "sequences, labels = [], []\n",
    "for action in actions:\n",
    "    for sequence in range(no_sequences):\n",
    "        window = []\n",
    "        for frame_num in range(sequence_length):\n",
    "            res = np.load(os.path.join(DATA_PATH, action, str(sequence), \"{}.npy\".format(frame_num)))\n",
    "            window.append(res)\n",
    "        sequences.append(window)\n",
    "        labels.append(label_map[action])"
   ]
  },
  {
   "cell_type": "code",
   "execution_count": 160,
   "id": "87406c0e-d57d-4eb7-a4e4-0911d129192c",
   "metadata": {},
   "outputs": [],
   "source": [
    "X = np.array(sequences)"
   ]
  },
  {
   "cell_type": "code",
   "execution_count": 162,
   "id": "9b5908e2-12b4-4b81-9f5b-5c0d912562bf",
   "metadata": {},
   "outputs": [],
   "source": [
    "y = to_categorical(labels).astype(int)"
   ]
  },
  {
   "cell_type": "code",
   "execution_count": 164,
   "id": "c93a6f2b-2a23-47d1-9250-7ca4588c8667",
   "metadata": {},
   "outputs": [],
   "source": [
    "X_train, X_test, y_train, y_test = train_test_split(X, y, test_size=0.05)"
   ]
  },
  {
   "cell_type": "code",
   "execution_count": 166,
   "id": "7e343289-d67d-4d13-94b6-71ea370fbbfe",
   "metadata": {},
   "outputs": [
    {
     "data": {
      "text/plain": [
       "(85, 30, 1662)"
      ]
     },
     "execution_count": 166,
     "metadata": {},
     "output_type": "execute_result"
    }
   ],
   "source": [
    "X_train.shape"
   ]
  },
  {
   "cell_type": "code",
   "execution_count": 168,
   "id": "08312247-f6c5-4c72-955a-0dae7abeb191",
   "metadata": {},
   "outputs": [
    {
     "data": {
      "text/plain": [
       "(5, 3)"
      ]
     },
     "execution_count": 168,
     "metadata": {},
     "output_type": "execute_result"
    }
   ],
   "source": [
    "y_test.shape"
   ]
  },
  {
   "cell_type": "markdown",
   "id": "10ef3d5f-0506-48c6-a3d1-88bb4cadcdce",
   "metadata": {},
   "source": [
    "# 7 Build and Train LSM Neural Network"
   ]
  },
  {
   "cell_type": "code",
   "execution_count": 171,
   "id": "a9b17e2e-6938-4b93-ac47-01dd219fcaf3",
   "metadata": {},
   "outputs": [],
   "source": [
    "from tensorflow.keras.models import Sequential\n",
    "from tensorflow.keras.layers import LSTM, Dense\n",
    "from tensorflow.keras.callbacks import TensorBoard"
   ]
  },
  {
   "cell_type": "code",
   "execution_count": 173,
   "id": "0e00e6f1-6a56-410c-9e7c-02187b003723",
   "metadata": {},
   "outputs": [],
   "source": [
    "log_dir = os.path.join('Logs')\n",
    "tb_callback = TensorBoard(log_dir=log_dir)"
   ]
  },
  {
   "cell_type": "code",
   "execution_count": 177,
   "id": "d2669501-4efc-4ebc-a5e2-c8823035ecc5",
   "metadata": {},
   "outputs": [],
   "source": [
    "model = Sequential()\n",
    "model.add(LSTM(64, return_sequences=True, activation='relu', input_shape=(30,1662)))\n",
    "model.add(LSTM(128, return_sequences=True, activation='relu'))\n",
    "model.add(LSTM(64, return_sequences=False, activation='relu'))\n",
    "model.add(Dense(64, activation='relu'))\n",
    "model.add(Dense(32, activation='relu'))\n",
    "model.add(Dense(actions.shape[0], activation='softmax'))"
   ]
  },
  {
   "cell_type": "code",
   "execution_count": 179,
   "id": "3181fdd1-5b75-486c-9ce9-cf3051973f32",
   "metadata": {},
   "outputs": [],
   "source": [
    "res = [.7, 0.2, 0.1]"
   ]
  },
  {
   "cell_type": "code",
   "execution_count": 183,
   "id": "0076f54c-38b7-4e6d-931a-7eb113316f79",
   "metadata": {},
   "outputs": [],
   "source": [
    "model.compile(optimizer='Adam', loss='categorical_crossentropy', metrics=['categorical_accuracy'])"
   ]
  },
  {
   "cell_type": "code",
   "execution_count": 181,
   "id": "6d89f6bc-7674-45e1-bb88-9ccee5734815",
   "metadata": {},
   "outputs": [
    {
     "data": {
      "text/plain": [
       "'Hello'"
      ]
     },
     "execution_count": 181,
     "metadata": {},
     "output_type": "execute_result"
    }
   ],
   "source": [
    "actions[np.argmax(res)]"
   ]
  },
  {
   "cell_type": "code",
   "execution_count": 151,
   "id": "748945cb-9778-431d-a479-9e8c3df70ad1",
   "metadata": {},
   "outputs": [
    {
     "ename": "NameError",
     "evalue": "name 'tb_callback' is not defined",
     "output_type": "error",
     "traceback": [
      "\u001b[1;31m---------------------------------------------------------------------------\u001b[0m",
      "\u001b[1;31mNameError\u001b[0m                                 Traceback (most recent call last)",
      "Cell \u001b[1;32mIn[151], line 1\u001b[0m\n\u001b[1;32m----> 1\u001b[0m model\u001b[38;5;241m.\u001b[39mfit(X_train, y_train, epochs\u001b[38;5;241m=\u001b[39m\u001b[38;5;241m2000\u001b[39m, callbacks\u001b[38;5;241m=\u001b[39m[tb_callback])\n",
      "\u001b[1;31mNameError\u001b[0m: name 'tb_callback' is not defined"
     ]
    }
   ],
   "source": [
    "model.fit(X_train, y_train, epochs=2000, callbacks=[tb_callback])"
   ]
  },
  {
   "cell_type": "code",
   "execution_count": 107,
   "id": "d7a7ce67-cbc0-406d-8ec2-69240184b043",
   "metadata": {},
   "outputs": [],
   "source": [
    "# # Load TensorBoard extension\n",
    "# %load_ext tensorboard\n",
    "\n",
    "# # Start TensorBoard\n",
    "# log_dir = \"logs\"  # Change this to the directory where logs are stored\n",
    "# %tensorboard --logdir {log_dir}\n"
   ]
  },
  {
   "cell_type": "code",
   "execution_count": 101,
   "id": "2592e0a3-abd9-40b9-99c2-9d36b9859a86",
   "metadata": {},
   "outputs": [
    {
     "data": {
      "text/html": [
       "<pre style=\"white-space:pre;overflow-x:auto;line-height:normal;font-family:Menlo,'DejaVu Sans Mono',consolas,'Courier New',monospace\"><span style=\"font-weight: bold\">Model: \"sequential_3\"</span>\n",
       "</pre>\n"
      ],
      "text/plain": [
       "\u001b[1mModel: \"sequential_3\"\u001b[0m\n"
      ]
     },
     "metadata": {},
     "output_type": "display_data"
    },
    {
     "data": {
      "text/html": [
       "<pre style=\"white-space:pre;overflow-x:auto;line-height:normal;font-family:Menlo,'DejaVu Sans Mono',consolas,'Courier New',monospace\">┏━━━━━━━━━━━━━━━━━━━━━━━━━━━━━━━━━┳━━━━━━━━━━━━━━━━━━━━━━━━┳━━━━━━━━━━━━━━━┓\n",
       "┃<span style=\"font-weight: bold\"> Layer (type)                    </span>┃<span style=\"font-weight: bold\"> Output Shape           </span>┃<span style=\"font-weight: bold\">       Param # </span>┃\n",
       "┡━━━━━━━━━━━━━━━━━━━━━━━━━━━━━━━━━╇━━━━━━━━━━━━━━━━━━━━━━━━╇━━━━━━━━━━━━━━━┩\n",
       "│ lstm_7 (<span style=\"color: #0087ff; text-decoration-color: #0087ff\">LSTM</span>)                   │ (<span style=\"color: #00d7ff; text-decoration-color: #00d7ff\">None</span>, <span style=\"color: #00af00; text-decoration-color: #00af00\">30</span>, <span style=\"color: #00af00; text-decoration-color: #00af00\">64</span>)         │       <span style=\"color: #00af00; text-decoration-color: #00af00\">442,112</span> │\n",
       "├─────────────────────────────────┼────────────────────────┼───────────────┤\n",
       "│ lstm_8 (<span style=\"color: #0087ff; text-decoration-color: #0087ff\">LSTM</span>)                   │ (<span style=\"color: #00d7ff; text-decoration-color: #00d7ff\">None</span>, <span style=\"color: #00af00; text-decoration-color: #00af00\">30</span>, <span style=\"color: #00af00; text-decoration-color: #00af00\">128</span>)        │        <span style=\"color: #00af00; text-decoration-color: #00af00\">98,816</span> │\n",
       "├─────────────────────────────────┼────────────────────────┼───────────────┤\n",
       "│ lstm_9 (<span style=\"color: #0087ff; text-decoration-color: #0087ff\">LSTM</span>)                   │ (<span style=\"color: #00d7ff; text-decoration-color: #00d7ff\">None</span>, <span style=\"color: #00af00; text-decoration-color: #00af00\">64</span>)             │        <span style=\"color: #00af00; text-decoration-color: #00af00\">49,408</span> │\n",
       "├─────────────────────────────────┼────────────────────────┼───────────────┤\n",
       "│ dense_1 (<span style=\"color: #0087ff; text-decoration-color: #0087ff\">Dense</span>)                 │ (<span style=\"color: #00d7ff; text-decoration-color: #00d7ff\">None</span>, <span style=\"color: #00af00; text-decoration-color: #00af00\">64</span>)             │         <span style=\"color: #00af00; text-decoration-color: #00af00\">4,160</span> │\n",
       "├─────────────────────────────────┼────────────────────────┼───────────────┤\n",
       "│ dense_2 (<span style=\"color: #0087ff; text-decoration-color: #0087ff\">Dense</span>)                 │ (<span style=\"color: #00d7ff; text-decoration-color: #00d7ff\">None</span>, <span style=\"color: #00af00; text-decoration-color: #00af00\">32</span>)             │         <span style=\"color: #00af00; text-decoration-color: #00af00\">2,080</span> │\n",
       "├─────────────────────────────────┼────────────────────────┼───────────────┤\n",
       "│ dense_3 (<span style=\"color: #0087ff; text-decoration-color: #0087ff\">Dense</span>)                 │ (<span style=\"color: #00d7ff; text-decoration-color: #00d7ff\">None</span>, <span style=\"color: #00af00; text-decoration-color: #00af00\">3</span>)              │            <span style=\"color: #00af00; text-decoration-color: #00af00\">99</span> │\n",
       "└─────────────────────────────────┴────────────────────────┴───────────────┘\n",
       "</pre>\n"
      ],
      "text/plain": [
       "┏━━━━━━━━━━━━━━━━━━━━━━━━━━━━━━━━━┳━━━━━━━━━━━━━━━━━━━━━━━━┳━━━━━━━━━━━━━━━┓\n",
       "┃\u001b[1m \u001b[0m\u001b[1mLayer (type)                   \u001b[0m\u001b[1m \u001b[0m┃\u001b[1m \u001b[0m\u001b[1mOutput Shape          \u001b[0m\u001b[1m \u001b[0m┃\u001b[1m \u001b[0m\u001b[1m      Param #\u001b[0m\u001b[1m \u001b[0m┃\n",
       "┡━━━━━━━━━━━━━━━━━━━━━━━━━━━━━━━━━╇━━━━━━━━━━━━━━━━━━━━━━━━╇━━━━━━━━━━━━━━━┩\n",
       "│ lstm_7 (\u001b[38;5;33mLSTM\u001b[0m)                   │ (\u001b[38;5;45mNone\u001b[0m, \u001b[38;5;34m30\u001b[0m, \u001b[38;5;34m64\u001b[0m)         │       \u001b[38;5;34m442,112\u001b[0m │\n",
       "├─────────────────────────────────┼────────────────────────┼───────────────┤\n",
       "│ lstm_8 (\u001b[38;5;33mLSTM\u001b[0m)                   │ (\u001b[38;5;45mNone\u001b[0m, \u001b[38;5;34m30\u001b[0m, \u001b[38;5;34m128\u001b[0m)        │        \u001b[38;5;34m98,816\u001b[0m │\n",
       "├─────────────────────────────────┼────────────────────────┼───────────────┤\n",
       "│ lstm_9 (\u001b[38;5;33mLSTM\u001b[0m)                   │ (\u001b[38;5;45mNone\u001b[0m, \u001b[38;5;34m64\u001b[0m)             │        \u001b[38;5;34m49,408\u001b[0m │\n",
       "├─────────────────────────────────┼────────────────────────┼───────────────┤\n",
       "│ dense_1 (\u001b[38;5;33mDense\u001b[0m)                 │ (\u001b[38;5;45mNone\u001b[0m, \u001b[38;5;34m64\u001b[0m)             │         \u001b[38;5;34m4,160\u001b[0m │\n",
       "├─────────────────────────────────┼────────────────────────┼───────────────┤\n",
       "│ dense_2 (\u001b[38;5;33mDense\u001b[0m)                 │ (\u001b[38;5;45mNone\u001b[0m, \u001b[38;5;34m32\u001b[0m)             │         \u001b[38;5;34m2,080\u001b[0m │\n",
       "├─────────────────────────────────┼────────────────────────┼───────────────┤\n",
       "│ dense_3 (\u001b[38;5;33mDense\u001b[0m)                 │ (\u001b[38;5;45mNone\u001b[0m, \u001b[38;5;34m3\u001b[0m)              │            \u001b[38;5;34m99\u001b[0m │\n",
       "└─────────────────────────────────┴────────────────────────┴───────────────┘\n"
      ]
     },
     "metadata": {},
     "output_type": "display_data"
    },
    {
     "data": {
      "text/html": [
       "<pre style=\"white-space:pre;overflow-x:auto;line-height:normal;font-family:Menlo,'DejaVu Sans Mono',consolas,'Courier New',monospace\"><span style=\"font-weight: bold\"> Total params: </span><span style=\"color: #00af00; text-decoration-color: #00af00\">1,790,027</span> (6.83 MB)\n",
       "</pre>\n"
      ],
      "text/plain": [
       "\u001b[1m Total params: \u001b[0m\u001b[38;5;34m1,790,027\u001b[0m (6.83 MB)\n"
      ]
     },
     "metadata": {},
     "output_type": "display_data"
    },
    {
     "data": {
      "text/html": [
       "<pre style=\"white-space:pre;overflow-x:auto;line-height:normal;font-family:Menlo,'DejaVu Sans Mono',consolas,'Courier New',monospace\"><span style=\"font-weight: bold\"> Trainable params: </span><span style=\"color: #00af00; text-decoration-color: #00af00\">596,675</span> (2.28 MB)\n",
       "</pre>\n"
      ],
      "text/plain": [
       "\u001b[1m Trainable params: \u001b[0m\u001b[38;5;34m596,675\u001b[0m (2.28 MB)\n"
      ]
     },
     "metadata": {},
     "output_type": "display_data"
    },
    {
     "data": {
      "text/html": [
       "<pre style=\"white-space:pre;overflow-x:auto;line-height:normal;font-family:Menlo,'DejaVu Sans Mono',consolas,'Courier New',monospace\"><span style=\"font-weight: bold\"> Non-trainable params: </span><span style=\"color: #00af00; text-decoration-color: #00af00\">0</span> (0.00 B)\n",
       "</pre>\n"
      ],
      "text/plain": [
       "\u001b[1m Non-trainable params: \u001b[0m\u001b[38;5;34m0\u001b[0m (0.00 B)\n"
      ]
     },
     "metadata": {},
     "output_type": "display_data"
    },
    {
     "data": {
      "text/html": [
       "<pre style=\"white-space:pre;overflow-x:auto;line-height:normal;font-family:Menlo,'DejaVu Sans Mono',consolas,'Courier New',monospace\"><span style=\"font-weight: bold\"> Optimizer params: </span><span style=\"color: #00af00; text-decoration-color: #00af00\">1,193,352</span> (4.55 MB)\n",
       "</pre>\n"
      ],
      "text/plain": [
       "\u001b[1m Optimizer params: \u001b[0m\u001b[38;5;34m1,193,352\u001b[0m (4.55 MB)\n"
      ]
     },
     "metadata": {},
     "output_type": "display_data"
    }
   ],
   "source": [
    "model.summary()"
   ]
  },
  {
   "cell_type": "markdown",
   "id": "7c51d4b2-fca4-484b-81dd-16e4d8d44f2f",
   "metadata": {},
   "source": [
    "8 Make Prediction"
   ]
  },
  {
   "cell_type": "code",
   "execution_count": 185,
   "id": "c998931f-251d-4e19-abea-a60eeeacc7a9",
   "metadata": {},
   "outputs": [
    {
     "name": "stdout",
     "output_type": "stream",
     "text": [
      "\u001b[1m1/1\u001b[0m \u001b[32m━━━━━━━━━━━━━━━━━━━━\u001b[0m\u001b[37m\u001b[0m \u001b[1m1s\u001b[0m 641ms/step\n"
     ]
    }
   ],
   "source": [
    "res = model.predict(X_test)"
   ]
  },
  {
   "cell_type": "code",
   "execution_count": 197,
   "id": "11bf1a17-1426-4105-a1d2-d59c1957adf3",
   "metadata": {},
   "outputs": [
    {
     "data": {
      "text/plain": [
       "'iloveyou'"
      ]
     },
     "execution_count": 197,
     "metadata": {},
     "output_type": "execute_result"
    }
   ],
   "source": [
    "actions[np.argmax(res[2])]"
   ]
  },
  {
   "cell_type": "code",
   "execution_count": 199,
   "id": "4581dcb5-750d-4f51-b937-0247670fe869",
   "metadata": {},
   "outputs": [
    {
     "data": {
      "text/plain": [
       "'Hello'"
      ]
     },
     "execution_count": 199,
     "metadata": {},
     "output_type": "execute_result"
    }
   ],
   "source": [
    "actions[np.argmax(y_test[2])]"
   ]
  },
  {
   "cell_type": "markdown",
   "id": "a2bc7c14-093c-487e-a525-b57cf12466af",
   "metadata": {},
   "source": [
    "# 9: Save Weights"
   ]
  },
  {
   "cell_type": "code",
   "execution_count": 105,
   "id": "d2d5af9d-e97f-4c14-85de-d1c3a3aba532",
   "metadata": {},
   "outputs": [
    {
     "name": "stderr",
     "output_type": "stream",
     "text": [
      "WARNING:absl:You are saving your model as an HDF5 file via `model.save()` or `keras.saving.save_model(model)`. This file format is considered legacy. We recommend using instead the native Keras format, e.g. `model.save('my_model.keras')` or `keras.saving.save_model(model, 'my_model.keras')`. \n"
     ]
    }
   ],
   "source": [
    "model.save('action.h5')"
   ]
  },
  {
   "cell_type": "code",
   "execution_count": 113,
   "id": "053773c8-3585-4834-9fcb-a2464969426a",
   "metadata": {},
   "outputs": [],
   "source": [
    "model.load_weights('action.h5')"
   ]
  },
  {
   "cell_type": "markdown",
   "id": "6754315b-a5d8-417f-a22f-eef5dce890aa",
   "metadata": {},
   "source": [
    "# 10 Evaluate Using confusion matrix and accuracy"
   ]
  },
  {
   "cell_type": "code",
   "execution_count": 117,
   "id": "24e4cba1-bbc5-4030-90dc-a4503c4b6369",
   "metadata": {},
   "outputs": [],
   "source": [
    "from sklearn.metrics import multilabel_confusion_matrix , accuracy_score"
   ]
  },
  {
   "cell_type": "code",
   "execution_count": 201,
   "id": "b8adde2a-c3eb-45f8-8fb8-4fa16caa33ef",
   "metadata": {},
   "outputs": [
    {
     "name": "stdout",
     "output_type": "stream",
     "text": [
      "\u001b[1m1/1\u001b[0m \u001b[32m━━━━━━━━━━━━━━━━━━━━\u001b[0m\u001b[37m\u001b[0m \u001b[1m0s\u001b[0m 122ms/step\n"
     ]
    }
   ],
   "source": [
    "yhat = model.predict(X_test)"
   ]
  },
  {
   "cell_type": "code",
   "execution_count": 203,
   "id": "38a922ad-5331-4784-b52e-54e46b86995e",
   "metadata": {},
   "outputs": [],
   "source": [
    "ytrue = np.argmax(y_test, axis=1).tolist()\n",
    "yhat = np.argmax(yhat, axis=1).tolist()"
   ]
  },
  {
   "cell_type": "code",
   "execution_count": 205,
   "id": "1a065abe-ac5a-4f39-8dcc-7423c919cec9",
   "metadata": {},
   "outputs": [
    {
     "data": {
      "text/plain": [
       "array([[[2, 0],\n",
       "        [2, 1]],\n",
       "\n",
       "       [[1, 2],\n",
       "        [0, 2]]], dtype=int64)"
      ]
     },
     "execution_count": 205,
     "metadata": {},
     "output_type": "execute_result"
    }
   ],
   "source": [
    "multilabel_confusion_matrix(ytrue, yhat)"
   ]
  },
  {
   "cell_type": "code",
   "execution_count": 207,
   "id": "800a62dd-0bf9-45a9-a91f-5925e006ca21",
   "metadata": {},
   "outputs": [
    {
     "data": {
      "text/plain": [
       "0.6"
      ]
     },
     "execution_count": 207,
     "metadata": {},
     "output_type": "execute_result"
    }
   ],
   "source": [
    "accuracy_score(ytrue, yhat)"
   ]
  },
  {
   "cell_type": "markdown",
   "id": "d5ecd799-c594-4eec-a4f8-3006aa223a30",
   "metadata": {},
   "source": [
    "# Test in Real Time"
   ]
  },
  {
   "cell_type": "code",
   "execution_count": 212,
   "id": "800f5182-6469-4396-a0dd-6d53fe499ef1",
   "metadata": {},
   "outputs": [],
   "source": [
    "colors = [(245,117,16), (117,245,16), (16,117,245)]\n",
    "def prob_viz(res, actions, input_frame, colors):\n",
    "    output_frame = input_frame.copy()\n",
    "    for num, prob in enumerate(res):\n",
    "        cv2.rectangle(output_frame, (0,60+num*40), (int(prob*100), 90+num*40), colors[num], -1)\n",
    "        cv2.putText(output_frame, actions[num], (0, 85+num*40), cv2.FONT_HERSHEY_SIMPLEX, 1, (255,255,255), 2, cv2.LINE_AA)\n",
    "        \n",
    "    return output_frame"
   ]
  },
  {
   "cell_type": "code",
   "execution_count": 214,
   "id": "395df491-8f8a-4bf5-9b32-8c98904ea361",
   "metadata": {},
   "outputs": [
    {
     "ename": "TypeError",
     "evalue": "only length-1 arrays can be converted to Python scalars",
     "output_type": "error",
     "traceback": [
      "\u001b[1;31m---------------------------------------------------------------------------\u001b[0m",
      "\u001b[1;31mTypeError\u001b[0m                                 Traceback (most recent call last)",
      "Cell \u001b[1;32mIn[214], line 2\u001b[0m\n\u001b[0;32m      1\u001b[0m plt\u001b[38;5;241m.\u001b[39mfigure(figsize\u001b[38;5;241m=\u001b[39m(\u001b[38;5;241m18\u001b[39m,\u001b[38;5;241m18\u001b[39m))\n\u001b[1;32m----> 2\u001b[0m plt\u001b[38;5;241m.\u001b[39mimshow(prob_viz(res, actions, image, colors))\n",
      "Cell \u001b[1;32mIn[212], line 5\u001b[0m, in \u001b[0;36mprob_viz\u001b[1;34m(res, actions, input_frame, colors)\u001b[0m\n\u001b[0;32m      3\u001b[0m output_frame \u001b[38;5;241m=\u001b[39m input_frame\u001b[38;5;241m.\u001b[39mcopy()\n\u001b[0;32m      4\u001b[0m \u001b[38;5;28;01mfor\u001b[39;00m num, prob \u001b[38;5;129;01min\u001b[39;00m \u001b[38;5;28menumerate\u001b[39m(res):\n\u001b[1;32m----> 5\u001b[0m     cv2\u001b[38;5;241m.\u001b[39mrectangle(output_frame, (\u001b[38;5;241m0\u001b[39m,\u001b[38;5;241m60\u001b[39m\u001b[38;5;241m+\u001b[39mnum\u001b[38;5;241m*\u001b[39m\u001b[38;5;241m40\u001b[39m), (\u001b[38;5;28mint\u001b[39m(prob\u001b[38;5;241m*\u001b[39m\u001b[38;5;241m100\u001b[39m), \u001b[38;5;241m90\u001b[39m\u001b[38;5;241m+\u001b[39mnum\u001b[38;5;241m*\u001b[39m\u001b[38;5;241m40\u001b[39m), colors[num], \u001b[38;5;241m-\u001b[39m\u001b[38;5;241m1\u001b[39m)\n\u001b[0;32m      6\u001b[0m     cv2\u001b[38;5;241m.\u001b[39mputText(output_frame, actions[num], (\u001b[38;5;241m0\u001b[39m, \u001b[38;5;241m85\u001b[39m\u001b[38;5;241m+\u001b[39mnum\u001b[38;5;241m*\u001b[39m\u001b[38;5;241m40\u001b[39m), cv2\u001b[38;5;241m.\u001b[39mFONT_HERSHEY_SIMPLEX, \u001b[38;5;241m1\u001b[39m, (\u001b[38;5;241m255\u001b[39m,\u001b[38;5;241m255\u001b[39m,\u001b[38;5;241m255\u001b[39m), \u001b[38;5;241m2\u001b[39m, cv2\u001b[38;5;241m.\u001b[39mLINE_AA)\n\u001b[0;32m      8\u001b[0m \u001b[38;5;28;01mreturn\u001b[39;00m output_frame\n",
      "\u001b[1;31mTypeError\u001b[0m: only length-1 arrays can be converted to Python scalars"
     ]
    },
    {
     "data": {
      "text/plain": [
       "<Figure size 1800x1800 with 0 Axes>"
      ]
     },
     "metadata": {},
     "output_type": "display_data"
    }
   ],
   "source": [
    "plt.figure(figsize=(18,18))\n",
    "plt.imshow(prob_viz(res, actions, image, colors))"
   ]
  },
  {
   "cell_type": "code",
   "execution_count": null,
   "id": "5dd43fe4-cbb8-4337-ba85-105bd7238bdc",
   "metadata": {},
   "outputs": [],
   "source": []
  }
 ],
 "metadata": {
  "kernelspec": {
   "display_name": "Python [conda env:base] *",
   "language": "python",
   "name": "conda-base-py"
  },
  "language_info": {
   "codemirror_mode": {
    "name": "ipython",
    "version": 3
   },
   "file_extension": ".py",
   "mimetype": "text/x-python",
   "name": "python",
   "nbconvert_exporter": "python",
   "pygments_lexer": "ipython3",
   "version": "3.12.7"
  }
 },
 "nbformat": 4,
 "nbformat_minor": 5
}
